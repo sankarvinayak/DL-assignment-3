{
  "nbformat": 4,
  "nbformat_minor": 0,
  "metadata": {
    "colab": {
      "provenance": [],
      "gpuType": "T4",
      "include_colab_link": true
    },
    "kernelspec": {
      "name": "python3",
      "display_name": "Python 3"
    },
    "language_info": {
      "name": "python"
    },
    "accelerator": "GPU"
  },
  "cells": [
    {
      "cell_type": "markdown",
      "metadata": {
        "id": "view-in-github",
        "colab_type": "text"
      },
      "source": [
        "<a href=\"https://colab.research.google.com/github/sankarvinayak/DL-assignment-3/blob/main/DL_Assignment_3.ipynb\" target=\"_parent\"><img src=\"https://colab.research.google.com/assets/colab-badge.svg\" alt=\"Open In Colab\"/></a>"
      ]
    },
    {
      "cell_type": "markdown",
      "source": [
        "# DA6401 Assignment 3\n",
        "Use recurrent neural networks to build a transliteration system."
      ],
      "metadata": {
        "id": "9iyO4eo7ajS3"
      }
    },
    {
      "cell_type": "markdown",
      "source": [
        "# Instructions\n",
        "- The goal of this assignment is fourfold: (i) learn how to model sequence to sequence learning problems using Recurrent Neural Networks (ii) compare different cells such as vanilla RNN, LSTM and GRU (iii) understand how attention networks overcome the limitations of vanilla seq2seq models (iv) visualise the interactions between different components in a RNN based model.\n",
        "- We strongly recommend that you work on this assignment in a team of size 2. Both the members\n",
        "of the team are expected to work together (in a subsequent viva both members will be expected to answer questions, explain the code, etc).\n",
        "- Collaborations and discussions with other groups are strictly prohibited.\n",
        "- You must use Python (numpy and pandas) for your implementation.\n",
        "- You can use any and all packages from keras, pytorch, tensorflow\n",
        "- You can run the code in a jupyter notebook on colab by enabling GPUs.\n",
        "- You have to generate the report in the same format as shown below using wandb.ai. You can start by cloning this report using the clone option above. Most of the plots that we have asked for below can be (automatically) generated using the apis provided by wandb.ai. You will upload a link to this report on gradescope.\n",
        "- You also need to provide a link to your github code as shown below. Follow good software engineering practices and set up a github repo for the project on Day 1. Please do not write all code on your local machine and push everything to github on the last day. The commits in github should reflect how the code has evolved during the course of the assignment.\n",
        "- You have to check moodle regularly for updates regarding the assignment.\n"
      ],
      "metadata": {
        "id": "qgw6bhgEaljz"
      }
    },
    {
      "cell_type": "markdown",
      "source": [
        "\n",
        "# Problem Statement\n",
        "\n",
        "In this assignment you will experiment with the [Dakshina dataset](https://github.com/google-research-datasets/dakshina) released by Google. This dataset contains pairs of the following form:\n",
        "\n",
        "$x$.      $y$\n",
        "\n",
        "ajanabee अजनबी.\n",
        "\n",
        "i.e., a word in the native script and its corresponding transliteration in the Latin script (the way we type while chatting with our friends on WhatsApp etc). Given many such $(x_i, y_i)_{i=1}^n$ pairs your goal is to train a model $y = \\hat{f}(x)$ which takes as input a romanized string (ghar) and produces the corresponding word in Devanagari (घर).\n",
        "\n",
        "As you would realise this is the problem of mapping a sequence of characters in one language to a sequence of characters in another language. Notice that this is a scaled down version of the problem of translation where the goal is to translate a sequence of **words** in one language to a sequence of words in another language (as opposed to sequence of **characters** here).\n",
        "\n",
        "Read these blogs to understand how to build neural sequence to sequence models: [blog1](https://keras.io/examples/nlp/lstm_seq2seq/), [blog2](https://machinelearningmastery.com/define-encoder-decoder-sequence-sequence-model-neural-machine-translation-keras/)\n",
        "\n",
        "\n"
      ],
      "metadata": {
        "id": "oZy-iPloatY4"
      }
    },
    {
      "cell_type": "code",
      "source": [
        "!wget https://storage.googleapis.com/gresearch/dakshina/dakshina_dataset_v1.0.tar\n",
        "!tar -xf dakshina_dataset_v1.0.tar\n",
        "!cp -r dakshina_dataset_v1.0/ml .\n",
        "!rm -rf dakshina_dataset_v1.0\n",
        "!rm -r dakshina_dataset_v1.0.tar"
      ],
      "metadata": {
        "colab": {
          "base_uri": "https://localhost:8080/"
        },
        "id": "onPyTUOtbfIk",
        "outputId": "a054f42e-5c34-457d-e5ff-fbe51a52a17d"
      },
      "execution_count": 1,
      "outputs": [
        {
          "output_type": "stream",
          "name": "stdout",
          "text": [
            "--2025-05-15 04:53:20--  https://storage.googleapis.com/gresearch/dakshina/dakshina_dataset_v1.0.tar\n",
            "Resolving storage.googleapis.com (storage.googleapis.com)... 74.125.24.207, 142.251.10.207, 142.251.12.207, ...\n",
            "Connecting to storage.googleapis.com (storage.googleapis.com)|74.125.24.207|:443... connected.\n",
            "HTTP request sent, awaiting response... 200 OK\n",
            "Length: 2008340480 (1.9G) [application/x-tar]\n",
            "Saving to: ‘dakshina_dataset_v1.0.tar’\n",
            "\n",
            "dakshina_dataset_v1 100%[===================>]   1.87G  21.9MB/s    in 88s     \n",
            "\n",
            "2025-05-15 04:54:48 (21.8 MB/s) - ‘dakshina_dataset_v1.0.tar’ saved [2008340480/2008340480]\n",
            "\n"
          ]
        }
      ]
    },
    {
      "cell_type": "code",
      "source": [
        "import pandas as pd\n",
        "\n",
        "# Paths to your data files (adjust if needed)\n",
        "path = \"/content/ml/lexicons/ml.translit.sampled.train.tsv\"\n",
        "path_val = \"/content/ml/lexicons/ml.translit.sampled.dev.tsv\"\n",
        "path_test = \"/content/ml/lexicons/ml.translit.sampled.test.tsv\"\n",
        "\n",
        "# Read the files\n",
        "df = pd.read_csv(path, sep='\\t', header=None)\n",
        "df_val = pd.read_csv(path_val, sep='\\t', header=None)\n",
        "df_test = pd.read_csv(path_test, sep='\\t', header=None)\n",
        "\n",
        "# Split into native (Malayalam) and romanized (English) columns\n",
        "malayalam_words = df[0]\n",
        "english_words = df[1]\n",
        "\n",
        "malayalam_words_val = df_val[0]\n",
        "english_words_val = df_val[1]\n",
        "\n",
        "malayalam_words_test = df_test[0]\n",
        "english_words_test = df_test[1]\n",
        "\n"
      ],
      "metadata": {
        "id": "BQlWAo4vJqKe"
      },
      "execution_count": 1,
      "outputs": []
    },
    {
      "cell_type": "code",
      "source": [
        "malayalam_words,english_words"
      ],
      "metadata": {
        "colab": {
          "base_uri": "https://localhost:8080/"
        },
        "id": "MktNed8tJ1cN",
        "outputId": "dae3bbcc-bdd3-48ea-80bb-7f9f087ca020"
      },
      "execution_count": 2,
      "outputs": [
        {
          "output_type": "execute_result",
          "data": {
            "text/plain": [
              "(0             അം\n",
              " 1            അംഗ\n",
              " 2            അംഗ\n",
              " 3           അംഗം\n",
              " 4           അംഗം\n",
              "           ...   \n",
              " 58377       ഹൗസ്\n",
              " 58378       ഹർജി\n",
              " 58379       ഹർജി\n",
              " 58380    ഹർജിയിൽ\n",
              " 58381    ഹർജിയിൽ\n",
              " Name: 0, Length: 58382, dtype: object,\n",
              " 0              am\n",
              " 1            amga\n",
              " 2            anga\n",
              " 3           amgam\n",
              " 4           angam\n",
              "            ...   \n",
              " 58377       house\n",
              " 58378       harje\n",
              " 58379       harji\n",
              " 58380    harjeyil\n",
              " 58381    harjiyil\n",
              " Name: 1, Length: 58382, dtype: object)"
            ]
          },
          "metadata": {},
          "execution_count": 2
        }
      ]
    },
    {
      "cell_type": "code",
      "source": [
        "\n",
        "english_words = english_words.dropna()\n",
        "malayalam_words = malayalam_words.dropna()\n",
        "\n",
        "english_words = english_words.astype(str)\n",
        "malayalam_words = malayalam_words.astype(str)\n",
        "\n",
        "english_chars = sorted(set(\"\".join(english_words)))\n",
        "malayalam_chars = sorted(set(\"\".join(malayalam_words)))\n",
        "\n",
        "max_len_eng = max(len(w) for w in pd.concat([english_words, english_words_val, english_words_test]).dropna().astype(str))\n",
        "max_len_mal = max(len(w) for w in pd.concat([malayalam_words, malayalam_words_val, malayalam_words_test]).dropna().astype(str))\n",
        "\n",
        "print(\"English characters:\", english_chars)\n",
        "print(\"Malayalam characters:\", malayalam_chars)\n",
        "print(\"Max English word length:\", max_len_eng)\n",
        "print(\"Max Malayalam word length:\", max_len_mal)\n"
      ],
      "metadata": {
        "colab": {
          "base_uri": "https://localhost:8080/"
        },
        "id": "u0bc09swKX8T",
        "outputId": "00a9cc09-704f-44e0-9fc7-99f69bd02eca"
      },
      "execution_count": 3,
      "outputs": [
        {
          "output_type": "stream",
          "name": "stdout",
          "text": [
            "English characters: ['a', 'b', 'c', 'd', 'e', 'f', 'g', 'h', 'i', 'j', 'k', 'l', 'm', 'n', 'o', 'p', 'q', 'r', 's', 't', 'u', 'v', 'w', 'x', 'y', 'z']\n",
            "Malayalam characters: ['ം', 'ഃ', 'അ', 'ആ', 'ഇ', 'ഈ', 'ഉ', 'ഊ', 'ഋ', 'എ', 'ഏ', 'ഐ', 'ഒ', 'ഓ', 'ഔ', 'ക', 'ഖ', 'ഗ', 'ഘ', 'ങ', 'ച', 'ഛ', 'ജ', 'ഝ', 'ഞ', 'ട', 'ഠ', 'ഡ', 'ഢ', 'ണ', 'ത', 'ഥ', 'ദ', 'ധ', 'ന', 'പ', 'ഫ', 'ബ', 'ഭ', 'മ', 'യ', 'ര', 'റ', 'ല', 'ള', 'ഴ', 'വ', 'ശ', 'ഷ', 'സ', 'ഹ', 'ാ', 'ി', 'ീ', 'ു', 'ൂ', 'ൃ', 'െ', 'േ', 'ൈ', 'ൊ', 'ോ', '്', 'ൗ', 'ൺ', 'ൻ', 'ർ', 'ൽ', 'ൾ', '\\u200c']\n",
            "Max English word length: 32\n",
            "Max Malayalam word length: 31\n"
          ]
        }
      ]
    },
    {
      "cell_type": "code",
      "source": [
        "\n",
        "longest_malayalam_word = max(malayalam_words, key=len)\n",
        "print(\"Longest Malayalam word:\", longest_malayalam_word)\n",
        "print(\"Length:\", len(longest_malayalam_word))\n"
      ],
      "metadata": {
        "colab": {
          "base_uri": "https://localhost:8080/"
        },
        "id": "Ja9VgGrQMHRr",
        "outputId": "fd663368-77bf-4103-fe08-07c33a13537e"
      },
      "execution_count": 4,
      "outputs": [
        {
          "output_type": "stream",
          "name": "stdout",
          "text": [
            "Longest Malayalam word: ചൂണ്ടിക്കാണിക്കപ്പെട്ടിട്ടുണ്ട്\n",
            "Length: 31\n"
          ]
        }
      ]
    },
    {
      "cell_type": "code",
      "source": [
        "def word2vec(word, lang):\n",
        "    vec = []\n",
        "\n",
        "    if lang == \"english\":\n",
        "        start_token = len(english_chars) + 1\n",
        "        vec.append(start_token)\n",
        "\n",
        "        for char in word:\n",
        "            if char in english_chars:\n",
        "                vec.append(english_chars.index(char) + 1)\n",
        "\n",
        "        while len(vec) < max_len_eng + 1:  # +1 for start token\n",
        "            vec.append(0)\n",
        "\n",
        "        vec.append(0)  # end token\n",
        "\n",
        "    elif lang == \"malayalam\":\n",
        "        start_token = len(malayalam_chars) + 1\n",
        "        vec.append(start_token)\n",
        "\n",
        "        for char in word:\n",
        "            if char in malayalam_chars:\n",
        "                vec.append(malayalam_chars.index(char) + 1)\n",
        "\n",
        "        while len(vec) < max_len_mal + 1:\n",
        "            vec.append(0)\n",
        "\n",
        "        vec.append(0)\n",
        "\n",
        "    return vec\n"
      ],
      "metadata": {
        "id": "5KyfyGVTM7rg"
      },
      "execution_count": 5,
      "outputs": []
    },
    {
      "cell_type": "code",
      "source": [
        "vec = word2vec(malayalam_words[10], \"malayalam\")\n",
        "print(\"Malayalam word:\", malayalam_words[50000])\n",
        "print(\"Tokenized vector:\", vec)\n"
      ],
      "metadata": {
        "colab": {
          "base_uri": "https://localhost:8080/"
        },
        "id": "wuRx08ZcNFyy",
        "outputId": "b8eb25db-034d-47e3-9cc3-1a656b73310f"
      },
      "execution_count": 6,
      "outputs": [
        {
          "output_type": "stream",
          "name": "stdout",
          "text": [
            "Malayalam word: വീണ്\n",
            "Tokenized vector: [71, 3, 1, 18, 20, 63, 20, 45, 52, 41, 53, 0, 0, 0, 0, 0, 0, 0, 0, 0, 0, 0, 0, 0, 0, 0, 0, 0, 0, 0, 0, 0, 0]\n"
          ]
        }
      ]
    },
    {
      "cell_type": "code",
      "source": [
        "def ip_matrix_construct(words, lang):\n",
        "    ans = []\n",
        "    for word in words:\n",
        "        ans.append(word2vec(word, lang))\n",
        "    return ans\n"
      ],
      "metadata": {
        "id": "OUKQo2rKOJwO"
      },
      "execution_count": 7,
      "outputs": []
    },
    {
      "cell_type": "code",
      "source": [
        "import torch\n",
        "english_matrix = ip_matrix_construct(english_words.dropna().astype(str), \"english\")\n",
        "malayalam_matrix = ip_matrix_construct(malayalam_words.dropna().astype(str), \"malayalam\")\n",
        "\n",
        "# Convert to tensors\n",
        "english_matrix = torch.tensor(english_matrix)\n",
        "malayalam_matrix = torch.tensor(malayalam_matrix)\n",
        "\n",
        "# For validation data\n",
        "english_matrix_val = ip_matrix_construct(english_words_val.dropna().astype(str), \"english\")\n",
        "malayalam_matrix_val = ip_matrix_construct(malayalam_words_val.dropna().astype(str), \"malayalam\")\n",
        "english_matrix_val = torch.tensor(english_matrix_val)\n",
        "malayalam_matrix_val = torch.tensor(malayalam_matrix_val)\n",
        "\n",
        "# For test data\n",
        "english_matrix_test = ip_matrix_construct(english_words_test.dropna().astype(str), \"english\")\n",
        "malayalam_matrix_test = ip_matrix_construct(malayalam_words_test.dropna().astype(str), \"malayalam\")\n",
        "english_matrix_test = torch.tensor(english_matrix_test)\n",
        "malayalam_matrix_test = torch.tensor(malayalam_matrix_test)\n"
      ],
      "metadata": {
        "id": "-CjlylkvOM39"
      },
      "execution_count": 8,
      "outputs": []
    },
    {
      "cell_type": "markdown",
      "source": [
        "\n",
        "# Question 1 (15 Marks)\n",
        "Build a RNN based seq2seq model which contains the following layers: (i) input layer for character embeddings (ii) one encoder RNN which sequentially encodes the input character sequence (Latin) (iii) one decoder RNN which takes the last state of the encoder as input and produces one output character at a time (Devanagari).\n",
        "\n",
        "The code should be flexible such that the dimension of the input character embeddings, the hidden states of the encoders and decoders, the cell (RNN, LSTM, GRU) and the number of layers in the encoder and decoder can be changed.\n",
        "\n",
        "(a) What is the total number of computations done by your network? (assume that the input embedding size is $m$, encoder and decoder have 1 layer each, the hidden cell state is $k$ for both the encoder and decoder, the length of the input and output sequence is the same, i.e., $T$, the size of the vocabulary is the same for the source and target language, i.e., $V$)\n",
        "\n",
        "(b) What is the total number of parameters in your network? (assume that the input embedding size is $m$, encoder and decoder have 1 layer each, the hidden cell state is $k$ for both the encoder and decoder and the length of the input and output sequence is the same, i.e., $T$, the size of the vocabulary is the same for the source and target language, i.e., $V$)\n"
      ],
      "metadata": {
        "id": "6zHBg1GiawdW"
      }
    },
    {
      "cell_type": "markdown",
      "source": [
        "\n",
        "# Question 2 (10 Marks)\n",
        "\n",
        "You will now train your model using any one language from the [Dakshina dataset](https://github.com/google-research-datasets/dakshina) (I would suggest pick a language that you can read so that it is easy to analyse the errors). Use the standard train, dev, test set from the folder dakshina_dataset_v1.0/hi/lexicons/ (replace hi by the language of your choice)\n",
        "\n",
        "Using the sweep feature in wandb find the best hyperparameter configuration. Here are some suggestions but you are free to decide which hyperparameters you want to explore\n",
        "\n",
        "- input embedding size: 16, 32, 64, 256, ...\n",
        "- number of encoder layers: 1, 2, 3\n",
        "- number of decoder layers: 1, 2, 3\n",
        "- hidden layer size: 16, 32, 64, 256, ...\n",
        "- cell type: RNN, GRU, LSTM\n",
        "- dropout: 20%, 30% (btw, where will you add dropout? you should read up a bit on this)\n",
        "- beam search in decoder with different beam sizes:\n",
        "\n",
        "Based on your sweep please paste the following plots which are automatically generated by wandb:\n",
        "- accuracy v/s created plot (I would like to see the number of experiments you ran to get the best configuration).\n",
        "- parallel co-ordinates plot\n",
        "- correlation summary table (to see the correlation of each hyperparameter with the loss/accuracy)\n",
        "\n",
        "Also write down the hyperparameters and their values that you sweeped over. Smart strategies to reduce the number of runs while still achieving a high accuracy would be appreciated. Write down any unique strategy that you tried for efficiently searching the hyperparameters."
      ],
      "metadata": {
        "id": "rcVlhzCxazCJ"
      }
    },
    {
      "cell_type": "code",
      "source": [
        "import torch\n",
        "import torch.nn as nn\n",
        "\n",
        "class Encoder(nn.Module):\n",
        "    def __init__(self, input_size, embedding_size, hidden_size, num_layers, dropout, cell_type='LSTM', bidirectional=False):\n",
        "        super(Encoder, self).__init__()\n",
        "        self.hidden_size = hidden_size\n",
        "        self.num_layers = num_layers\n",
        "        self.cell_type = cell_type\n",
        "        self.bidirectional = bidirectional\n",
        "\n",
        "        self.embedding = nn.Embedding(input_size, embedding_size)\n",
        "        self.dropout = nn.Dropout(dropout)\n",
        "\n",
        "        if cell_type == 'GRU':\n",
        "            self.rnn = nn.GRU(embedding_size, hidden_size, num_layers, dropout=dropout if num_layers > 1 else 0, bidirectional=bidirectional)\n",
        "        elif cell_type == 'RNN':\n",
        "            self.rnn = nn.RNN(embedding_size, hidden_size, num_layers, dropout=dropout if num_layers > 1 else 0, bidirectional=bidirectional)\n",
        "        else:  # LSTM by default\n",
        "            self.rnn = nn.LSTM(embedding_size, hidden_size, num_layers, dropout=dropout if num_layers > 1 else 0, bidirectional=bidirectional)\n",
        "\n",
        "    def forward(self, x):\n",
        "        # x shape: (seq_len, batch)\n",
        "        embedded = self.dropout(self.embedding(x))\n",
        "        # embedded shape: (seq_len, batch, embedding_size)\n",
        "\n",
        "        if self.cell_type == 'LSTM':\n",
        "            outputs, (hidden, cell) = self.rnn(embedded)\n",
        "            return outputs, (hidden, cell)\n",
        "        else:\n",
        "            outputs, hidden = self.rnn(embedded)\n",
        "            return outputs, hidden\n",
        "class Decoder(nn.Module):\n",
        "    def __init__(self, output_size, embedding_size, hidden_size, num_layers, dropout, cell_type='LSTM'):\n",
        "        super(Decoder, self).__init__()\n",
        "        self.hidden_size = hidden_size\n",
        "        self.num_layers = num_layers\n",
        "        self.cell_type = cell_type\n",
        "\n",
        "        self.embedding = nn.Embedding(output_size, embedding_size)\n",
        "        self.dropout = nn.Dropout(dropout)\n",
        "\n",
        "        if cell_type == 'GRU':\n",
        "            self.rnn = nn.GRU(embedding_size, hidden_size, num_layers, dropout=dropout if num_layers > 1 else 0)\n",
        "        elif cell_type == 'RNN':\n",
        "            self.rnn = nn.RNN(embedding_size, hidden_size, num_layers, dropout=dropout if num_layers > 1 else 0)\n",
        "        else:  # LSTM\n",
        "            self.rnn = nn.LSTM(embedding_size, hidden_size, num_layers, dropout=dropout if num_layers > 1 else 0)\n",
        "\n",
        "        self.fc_out = nn.Linear(hidden_size, output_size)\n",
        "\n",
        "    def forward(self, x, hidden):\n",
        "        # x shape: (batch), because one timestep input\n",
        "        x = x.unsqueeze(0)  # now (1, batch)\n",
        "        embedded = self.dropout(self.embedding(x))\n",
        "        # embedded shape: (1, batch, embedding_size)\n",
        "\n",
        "        if self.cell_type == 'LSTM':\n",
        "            output, (hidden, cell) = self.rnn(embedded, hidden)\n",
        "            prediction = self.fc_out(output.squeeze(0))\n",
        "            return prediction, (hidden, cell)\n",
        "        else:\n",
        "            output, hidden = self.rnn(embedded, hidden)\n",
        "            prediction = self.fc_out(output.squeeze(0))\n",
        "            return prediction, hidden\n",
        "class Seq2Seq(nn.Module):\n",
        "    def __init__(self, encoder, decoder, device):\n",
        "        super(Seq2Seq, self).__init__()\n",
        "        self.encoder = encoder\n",
        "        self.decoder = decoder\n",
        "        self.device = device\n",
        "\n",
        "    def forward(self, src, trg, teacher_forcing_ratio=0.5):\n",
        "        # src shape: (src_len, batch)\n",
        "        # trg shape: (trg_len, batch)\n",
        "\n",
        "        batch_size = trg.shape[1]\n",
        "        trg_len = trg.shape[0]\n",
        "        trg_vocab_size = self.decoder.fc_out.out_features\n",
        "\n",
        "        # tensor to store decoder outputs\n",
        "        outputs = torch.zeros(trg_len, batch_size, trg_vocab_size).to(self.device)\n",
        "\n",
        "        # encoder forward pass\n",
        "        if self.encoder.cell_type == 'LSTM':\n",
        "            encoder_outputs, (hidden, cell) = self.encoder(src)\n",
        "        else:\n",
        "            encoder_outputs, hidden = self.encoder(src)\n",
        "            cell = None  # no cell in RNN/GRU\n",
        "\n",
        "        # first input to the decoder is the <sos> token\n",
        "        input = trg[0, :]\n",
        "\n",
        "        for t in range(1, trg_len):\n",
        "            if self.encoder.cell_type == 'LSTM':\n",
        "                output, (hidden, cell) = self.decoder(input, (hidden, cell))\n",
        "            else:\n",
        "                output, hidden = self.decoder(input, hidden)\n",
        "\n",
        "            outputs[t] = output\n",
        "\n",
        "            teacher_force = torch.rand(1).item() < teacher_forcing_ratio\n",
        "            top1 = output.argmax(1)\n",
        "\n",
        "            input = trg[t] if teacher_force else top1\n",
        "\n",
        "        return outputs\n",
        "    def beam_search(self, src, sos_idx, eos_idx, max_len=30, beam_width=3):\n",
        "        # src: (src_len, batch=1) - typically batch=1 for beam search inference\n",
        "        self.eval()\n",
        "\n",
        "        with torch.no_grad():\n",
        "            # Encode source sentence\n",
        "            if self.encoder.cell_type == 'LSTM':\n",
        "                encoder_outputs, (hidden, cell) = self.encoder(src)\n",
        "            else:\n",
        "                encoder_outputs, hidden = self.encoder(src)\n",
        "                cell = None\n",
        "\n",
        "            # Initialize beam with sequences, scores, and hidden states\n",
        "            sequences = [[ [sos_idx], 0.0, hidden, cell ]]  # list of [sequence, score, hidden, cell]\n",
        "\n",
        "            for _ in range(max_len):\n",
        "                all_candidates = []\n",
        "                # Expand each sequence in the beam\n",
        "                for seq, score, hidden_state, cell_state in sequences:\n",
        "                    # If last token is EOS, add sequence as is\n",
        "                    if seq[-1] == eos_idx:\n",
        "                        all_candidates.append((seq, score, hidden_state, cell_state))\n",
        "                        continue\n",
        "\n",
        "                    input_token = torch.LongTensor([seq[-1]]).to(self.device)\n",
        "                    if self.encoder.cell_type == 'LSTM':\n",
        "                        output, (hidden_new, cell_new) = self.decoder(input_token, (hidden_state, cell_state))\n",
        "                    else:\n",
        "                        output, hidden_new = self.decoder(input_token, hidden_state)\n",
        "                        cell_new = None\n",
        "\n",
        "                    # Get log probabilities\n",
        "                    log_probs = F.log_softmax(output, dim=1).squeeze(0)  # (vocab_size,)\n",
        "\n",
        "                    # Get top beam_width tokens\n",
        "                    top_log_probs, top_indices = torch.topk(log_probs, beam_width)\n",
        "\n",
        "                    for i in range(beam_width):\n",
        "                        candidate_seq = seq + [top_indices[i].item()]\n",
        "                        candidate_score = score + top_log_probs[i].item()\n",
        "                        all_candidates.append((candidate_seq, candidate_score, hidden_new, cell_new))\n",
        "\n",
        "                # Order all candidates by score and select top beam_width\n",
        "                ordered = sorted(all_candidates, key=lambda tup: tup[1], reverse=True)\n",
        "                sequences = ordered[:beam_width]\n",
        "\n",
        "                # Optional: break early if all sequences end with EOS\n",
        "                if all(seq[-1] == eos_idx for seq, _, _, _ in sequences):\n",
        "                    break\n",
        "\n",
        "            # Return the highest scoring sequence\n",
        "            best_seq = sequences[0][0]\n",
        "            return best_seq\n"
      ],
      "metadata": {
        "id": "YZk8qqrAb9kk"
      },
      "execution_count": 73,
      "outputs": []
    },
    {
      "cell_type": "code",
      "source": [
        "device = torch.device('cuda' if torch.cuda.is_available() else 'cpu')\n",
        "\n",
        "INPUT_DIM = len(english_chars) + 2  # +2 for padding and possibly <sos>/<eos>\n",
        "OUTPUT_DIM = len(malayalam_chars) + 2\n",
        "\n",
        "ENC_EMB_DIM = 64\n",
        "DEC_EMB_DIM = 64\n",
        "HID_DIM = 128\n",
        "ENC_LAYERS = 2\n",
        "DEC_LAYERS = 2\n",
        "ENC_DROPOUT = 0.3\n",
        "DEC_DROPOUT = 0.3\n",
        "CELL_TYPE ='GRU' # 'LSTM'  or 'GRU' or 'RNN'\n",
        "\n",
        "encoder = Encoder(INPUT_DIM, ENC_EMB_DIM, HID_DIM, ENC_LAYERS, ENC_DROPOUT, CELL_TYPE).to(device)\n",
        "decoder = Decoder(OUTPUT_DIM, DEC_EMB_DIM, HID_DIM, DEC_LAYERS, DEC_DROPOUT, CELL_TYPE).to(device)\n",
        "\n",
        "model = Seq2Seq(encoder, decoder, device).to(device)\n",
        "import torch.optim as optim\n",
        "\n",
        "PAD_IDX = 0  # assuming 0 is padding index in your tokenizer\n",
        "\n",
        "criterion = nn.CrossEntropyLoss(ignore_index=PAD_IDX)\n",
        "optimizer = optim.Adam(model.parameters(), lr=0.001)\n",
        "BATCH_SIZE = 64\n",
        "\n",
        "train_loader = DataLoader(train_dataset, batch_size=BATCH_SIZE, shuffle=True)\n",
        "val_loader = DataLoader(val_dataset, batch_size=BATCH_SIZE)\n",
        "test_loader = DataLoader(test_dataset, batch_size=BATCH_SIZE)\n",
        "model = model.to(device)\n",
        "optimizer = torch.optim.Adam(model.parameters())\n",
        "criterion = nn.CrossEntropyLoss(ignore_index=0)  # padding token is 0\n",
        "CLIP = 1\n"
      ],
      "metadata": {
        "id": "51sAR-XSQ62P"
      },
      "execution_count": 112,
      "outputs": []
    },
    {
      "cell_type": "code",
      "source": [
        "def train(model, iterator, optimizer, criterion, clip):\n",
        "    model.train()\n",
        "    epoch_loss = 0\n",
        "    epoch_acc = 0\n",
        "    total_tokens = 0\n",
        "\n",
        "    for src, trg in iterator:\n",
        "        src = src.transpose(0, 1).to(device)  # (seq_len, batch)\n",
        "        trg = trg.transpose(0, 1).to(device)  # (seq_len, batch)\n",
        "\n",
        "        optimizer.zero_grad()\n",
        "\n",
        "        output = model(src, trg[:-1, :])  # (seq_len-1, batch, output_dim)\n",
        "\n",
        "        output_dim = output.shape[-1]\n",
        "        output = output.reshape(-1, output_dim)  # ( (seq_len-1)*batch, output_dim )\n",
        "        trg_y = trg[1:, :].reshape(-1)           # ( (seq_len-1)*batch )\n",
        "\n",
        "        loss = criterion(output, trg_y)\n",
        "        loss.backward()\n",
        "\n",
        "        torch.nn.utils.clip_grad_norm_(model.parameters(), clip)\n",
        "        optimizer.step()\n",
        "\n",
        "        epoch_loss += loss.item()\n",
        "\n",
        "        # Calculate accuracy\n",
        "        preds = output.argmax(1)                # predicted tokens\n",
        "        non_pad_mask = trg_y != 0               # ignore padding\n",
        "        correct = (preds == trg_y) & non_pad_mask\n",
        "\n",
        "        epoch_acc += correct.sum().item()\n",
        "        total_tokens += non_pad_mask.sum().item()\n",
        "\n",
        "    accuracy = epoch_acc / total_tokens if total_tokens > 0 else 0\n",
        "    return epoch_loss / len(iterator), accuracy\n",
        "def evaluate(model, iterator, criterion):\n",
        "    model.eval()\n",
        "\n",
        "    epoch_loss = 0\n",
        "    epoch_acc = 0\n",
        "    total_tokens = 0\n",
        "\n",
        "    with torch.no_grad():\n",
        "        for src, trg in iterator:\n",
        "            src = src.transpose(0, 1).to(model.device)  # (seq_len, batch)\n",
        "            trg = trg.transpose(0, 1).to(model.device)\n",
        "\n",
        "            output = model(src, trg, 0)  # turn off teacher forcing\n",
        "\n",
        "            output_dim = output.shape[-1]\n",
        "            output = output[1:].view(-1, output_dim)  # remove <sos>, flatten\n",
        "            trg_y = trg[1:].reshape(-1)               # remove <sos>, flatten\n",
        "\n",
        "            loss = criterion(output, trg_y)\n",
        "            epoch_loss += loss.item()\n",
        "\n",
        "            preds = output.argmax(1)\n",
        "            non_pad_mask = trg_y != 0\n",
        "            correct = (preds == trg_y) & non_pad_mask\n",
        "\n",
        "            epoch_acc += correct.sum().item()\n",
        "            total_tokens += non_pad_mask.sum().item()\n",
        "\n",
        "    accuracy = epoch_acc / total_tokens if total_tokens > 0 else 0\n",
        "    return epoch_loss / len(iterator), accuracy\n",
        "\n"
      ],
      "metadata": {
        "id": "tblXSnyTTiJC"
      },
      "execution_count": 113,
      "outputs": []
    },
    {
      "cell_type": "code",
      "source": [
        "train_loss, train_acc = train(model, train_loader, optimizer, criterion, CLIP)\n",
        "\n",
        "valid_loss, valid_acc = evaluate(model, val_loader, criterion)\n",
        "\n",
        "print(f\"Train Loss: {train_loss:.3f} | Train Acc: {train_acc:.2%}\")\n",
        "print(f\"Val. Loss: {valid_loss:.3f} | Val. Acc: {valid_acc:.2%}\")"
      ],
      "metadata": {
        "id": "xoOw4Ev5TlDd"
      },
      "execution_count": null,
      "outputs": []
    },
    {
      "cell_type": "code",
      "source": [
        "sweep_config = {\n",
        "  \"method\": \"bayes\",\n",
        "  \"metric\": {\"name\": \"val_accuracy\", \"goal\": \"maximize\"},\n",
        "  \"parameters\": {\n",
        "    \"embedding_size\": {\"values\": [32, 64, 128]},\n",
        "    \"hidden_size\": {\"values\": [64, 128]},\n",
        "    \"num_encoder_layers\": {\"values\": [1, 2]},\n",
        "    \"num_decoder_layers\": {\"values\": [1, 2]},\n",
        "    \"cell_type\": {\"values\": [\"RNN\", \"GRU\", \"LSTM\"]},\n",
        "    \"dropout\": {\"values\": [0.2, 0.3]},\n",
        "    \"beam_size\": {\"values\": [1, 3, 5]},\n",
        "    \"learning_rate\": {\"values\": [1e-3, 5e-4]}\n",
        "  }\n",
        "}\n"
      ],
      "metadata": {
        "id": "j80CD7Fue-vW"
      },
      "execution_count": 103,
      "outputs": []
    },
    {
      "cell_type": "code",
      "source": [
        "import wandb\n",
        "\n",
        "wandb.init(project=\"DL-Assignment3\")\n",
        "sweep_id = wandb.sweep(sweep_config, project=\"DL-Assignment3\")\n",
        "wandb.agent(sweep_id, function=train_function)\n"
      ],
      "metadata": {
        "id": "XKc6fQRxe-tl"
      },
      "execution_count": null,
      "outputs": []
    },
    {
      "cell_type": "code",
      "source": [],
      "metadata": {
        "id": "6BbY3Igte-qF"
      },
      "execution_count": null,
      "outputs": []
    },
    {
      "cell_type": "code",
      "source": [],
      "metadata": {
        "id": "OpsREp3Ne-Hf"
      },
      "execution_count": null,
      "outputs": []
    },
    {
      "cell_type": "code",
      "source": [],
      "metadata": {
        "id": "bUQyZQqJcWF4"
      },
      "execution_count": null,
      "outputs": []
    },
    {
      "cell_type": "markdown",
      "source": [
        "\n",
        "\n",
        "# Question 3 (15 Marks)\n",
        "Based on the above plots write down some insightful observations. For example,\n",
        "- RNN based model takes longer time to converge than GRU or LSTM\n",
        "- using smaller sizes for the hidden layer does not give good results\n",
        "- dropout leads to better performance\n",
        "\n",
        "(Note: I don't know if any of the above statements is true. I just wrote some random comments that came to my mind)\n",
        "\n",
        "Of course, each inference should be backed by appropriate evidence."
      ],
      "metadata": {
        "id": "4VHpsNBIa100"
      }
    },
    {
      "cell_type": "code",
      "source": [],
      "metadata": {
        "id": "F82exrs7cWwO"
      },
      "execution_count": null,
      "outputs": []
    },
    {
      "cell_type": "markdown",
      "source": [
        "\n",
        "\n",
        "# Question 4 (10 Marks)\n",
        "\n",
        "You will now apply your best model on the test data (You shouldn't have used test data so far. All the above experiments should have been done using train and val data only).\n",
        "\n",
        "(a) Use the best model from your sweep and report the accuracy on the test set (the output is correct only if it exactly matches the reference output).\n",
        "\n",
        "(b) Provide sample inputs from the test data and predictions made by your best model (more marks for presenting this grid creatively). Also upload all the predictions on the test set in a folder **predictions_vanilla** on your github project.\n",
        "\n",
        "(c) Comment on the errors made by your model (simple insightful bullet points)\n",
        "\n",
        "- The model makes more errors on consonants than vowels\n",
        "- The model makes more errors on longer sequences\n",
        "- I am thinking confusion matrix but may be it's just me!\n",
        "- ..."
      ],
      "metadata": {
        "id": "xfTCrCc0a495"
      }
    },
    {
      "cell_type": "code",
      "source": [],
      "metadata": {
        "id": "r-wFgTO8cXU5"
      },
      "execution_count": null,
      "outputs": []
    },
    {
      "cell_type": "markdown",
      "source": [
        "\n",
        "\n",
        "# Question 5 (20 Marks)\n",
        "\n",
        "Now add an attention network to your basis sequence to sequence model and train the model again. For the sake of simplicity you can use a single layered encoder and a single layered decoder (if you want you can use multiple layers also). Please answer the following questions:\n",
        "\n",
        "(a) Did you tune the hyperparameters again? If yes please paste appropriate plots below.\n",
        "\n",
        "(b) Evaluate your best model on the test set and report the accuracy. Also upload all the predictions on the test set in a folder **predictions_attention** on your github project.\n",
        "\n",
        "(c) Does the attention based model perform better than the vanilla model? If so, can you check some of the errors that this model corrected and note down your inferences (i.e., outputs which were predicted incorrectly by your best seq2seq model are predicted correctly by this model)\n",
        "\n",
        "(d) In a 3 x 3 grid paste the attention heatmaps for 10 inputs from your test data (read up on what are attention heatmaps)."
      ],
      "metadata": {
        "id": "0YRbeDsHa8jp"
      }
    },
    {
      "cell_type": "code",
      "source": [],
      "metadata": {
        "id": "T4ZGQkVWcYZn"
      },
      "execution_count": null,
      "outputs": []
    },
    {
      "cell_type": "markdown",
      "source": [
        "\n",
        "\n",
        "# Question 6 (20 Marks)\n",
        "\n",
        "This a challenge question and most of you will find it hard.\n",
        "\n",
        "I like the visualisation in the figure captioned \"Connectivity\" in this [article](https://distill.pub/2019/memorization-in-rnns/#appendix-autocomplete). Make a similar visualisation for your model. Please look at this [blog](https://towardsdatascience.com/visualising-lstm-activations-in-keras-b50206da96ff) for some starter code. The goal is to figure out the following: When the model is decoding the $i$-th character in the output which is the input character that it is looking at?\n",
        "\n",
        "Have fun!\n"
      ],
      "metadata": {
        "id": "6pUsxVo6a_P2"
      }
    },
    {
      "cell_type": "code",
      "source": [],
      "metadata": {
        "id": "xmaZ1KnWcY1z"
      },
      "execution_count": null,
      "outputs": []
    },
    {
      "cell_type": "markdown",
      "source": [
        "\n",
        "\n",
        "# Question 7 (10 Marks)\n",
        "Paste a link to your github code for Part A\n",
        "\n",
        "Example: https://github.com/&lt;user-id&gt;/da6401_assignment3/partA;\n",
        "\n",
        "- We will check for coding style, clarity in using functions and a README file with clear instructions on training and evaluating the model (the 10 marks will be based on this).\n",
        "\n",
        "- We will also run a plagiarism check to ensure that the code is not copied (0 marks in the assignment if we find that the code is plagiarised).\n",
        "\n",
        "- We will check the number of commits made by the two team members and then give marks accordingly. For example, if we see 70% of the commits were made by one team member then that member will get more marks in the assignment (**note that this contribution will decide the marks split for the entire assignment and not just this question**).\n",
        "\n",
        "- We will also check if the training and test splits have been used properly. You will get 0 marks on the assignment if we find any cheating (e.g., adding test data to training data) to get higher accuracy.\n",
        "\n"
      ],
      "metadata": {
        "id": "gSnrEA_0bDJQ"
      }
    },
    {
      "cell_type": "code",
      "source": [],
      "metadata": {
        "id": "EGLYAZyJcZcg"
      },
      "execution_count": null,
      "outputs": []
    },
    {
      "cell_type": "markdown",
      "source": [
        "\n",
        "# Question 8 (0 Marks)\n",
        "\n",
        "Note that this question does not carry any marks and will not be graded. This is only for students who are looking for a challenge and want to get something more out of the course.\n",
        "\n",
        "Your task is to finetune the GPT2 model to generate lyrics for English songs. You can refer to [this blog](https://towardsdatascience.com/natural-language-generation-part-2-gpt-2-and-huggingface-f3acb35bc86a) and follow the steps there. This blog shows how to finetune the GPT2 model to generate headlines for financial articles. Instead of headlines you will use lyrics so you may find the following datasets useful for training: [dataset1](https://data.world/datasets/lyrics), [dataset2](https://www.kaggle.com/paultimothymooney/poetry)\n",
        "\n",
        "At test time you will give it a prompt: \"I love Deep Learning\" and it should complete the song based on this prompt :-) Paste the generated song in a block below!"
      ],
      "metadata": {
        "id": "RvChaPTCbGIP"
      }
    },
    {
      "cell_type": "code",
      "source": [],
      "metadata": {
        "id": "ccn5krpCcaEU"
      },
      "execution_count": null,
      "outputs": []
    },
    {
      "cell_type": "markdown",
      "source": [
        "### Self Declaration\n",
        "\n",
        "\n",
        "\n",
        "I, Name_XXX (Roll no: XXYY), swear on my honour that I have written the code and the report by myself and have not copied it from the internet or other students.\n",
        "\n",
        "\n",
        "\n"
      ],
      "metadata": {
        "id": "HSPz9XJZbNh4"
      }
    },
    {
      "cell_type": "code",
      "source": [],
      "metadata": {
        "id": "qzf9vWSyaiJg"
      },
      "execution_count": null,
      "outputs": []
    },
    {
      "cell_type": "code",
      "execution_count": null,
      "metadata": {
        "id": "bRnIpDOTaHjR"
      },
      "outputs": [],
      "source": []
    }
  ]
}